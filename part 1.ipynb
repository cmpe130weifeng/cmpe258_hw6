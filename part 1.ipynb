{
  "nbformat": 4,
  "nbformat_minor": 0,
  "metadata": {
    "colab": {
      "name": "Supervised Contrastive Learning.ipynb",
      "provenance": [],
      "collapsed_sections": []
    },
    "kernelspec": {
      "name": "python3",
      "display_name": "Python 3"
    },
    "language_info": {
      "name": "python"
    },
    "accelerator": "GPU"
  },
  "cells": [
    {
      "cell_type": "code",
      "execution_count": null,
      "metadata": {
        "colab": {
          "base_uri": "https://localhost:8080/"
        },
        "id": "k1ZJGnr-0NKs",
        "outputId": "ae97a9ba-3722-48e9-e54c-6342ec1fb7ff"
      },
      "outputs": [
        {
          "output_type": "stream",
          "name": "stdout",
          "text": [
            "Collecting tensorflow-addons\n",
            "  Downloading tensorflow_addons-0.16.1-cp37-cp37m-manylinux_2_12_x86_64.manylinux2010_x86_64.whl (1.1 MB)\n",
            "\u001b[?25l\r\u001b[K     |▎                               | 10 kB 22.3 MB/s eta 0:00:01\r\u001b[K     |▋                               | 20 kB 10.5 MB/s eta 0:00:01\r\u001b[K     |▉                               | 30 kB 8.5 MB/s eta 0:00:01\r\u001b[K     |█▏                              | 40 kB 7.7 MB/s eta 0:00:01\r\u001b[K     |█▌                              | 51 kB 4.3 MB/s eta 0:00:01\r\u001b[K     |█▊                              | 61 kB 5.1 MB/s eta 0:00:01\r\u001b[K     |██                              | 71 kB 5.4 MB/s eta 0:00:01\r\u001b[K     |██▍                             | 81 kB 5.5 MB/s eta 0:00:01\r\u001b[K     |██▋                             | 92 kB 6.2 MB/s eta 0:00:01\r\u001b[K     |███                             | 102 kB 5.0 MB/s eta 0:00:01\r\u001b[K     |███▏                            | 112 kB 5.0 MB/s eta 0:00:01\r\u001b[K     |███▌                            | 122 kB 5.0 MB/s eta 0:00:01\r\u001b[K     |███▉                            | 133 kB 5.0 MB/s eta 0:00:01\r\u001b[K     |████                            | 143 kB 5.0 MB/s eta 0:00:01\r\u001b[K     |████▍                           | 153 kB 5.0 MB/s eta 0:00:01\r\u001b[K     |████▊                           | 163 kB 5.0 MB/s eta 0:00:01\r\u001b[K     |█████                           | 174 kB 5.0 MB/s eta 0:00:01\r\u001b[K     |█████▎                          | 184 kB 5.0 MB/s eta 0:00:01\r\u001b[K     |█████▌                          | 194 kB 5.0 MB/s eta 0:00:01\r\u001b[K     |█████▉                          | 204 kB 5.0 MB/s eta 0:00:01\r\u001b[K     |██████▏                         | 215 kB 5.0 MB/s eta 0:00:01\r\u001b[K     |██████▍                         | 225 kB 5.0 MB/s eta 0:00:01\r\u001b[K     |██████▊                         | 235 kB 5.0 MB/s eta 0:00:01\r\u001b[K     |███████                         | 245 kB 5.0 MB/s eta 0:00:01\r\u001b[K     |███████▎                        | 256 kB 5.0 MB/s eta 0:00:01\r\u001b[K     |███████▋                        | 266 kB 5.0 MB/s eta 0:00:01\r\u001b[K     |███████▉                        | 276 kB 5.0 MB/s eta 0:00:01\r\u001b[K     |████████▏                       | 286 kB 5.0 MB/s eta 0:00:01\r\u001b[K     |████████▌                       | 296 kB 5.0 MB/s eta 0:00:01\r\u001b[K     |████████▊                       | 307 kB 5.0 MB/s eta 0:00:01\r\u001b[K     |█████████                       | 317 kB 5.0 MB/s eta 0:00:01\r\u001b[K     |█████████▍                      | 327 kB 5.0 MB/s eta 0:00:01\r\u001b[K     |█████████▋                      | 337 kB 5.0 MB/s eta 0:00:01\r\u001b[K     |██████████                      | 348 kB 5.0 MB/s eta 0:00:01\r\u001b[K     |██████████▏                     | 358 kB 5.0 MB/s eta 0:00:01\r\u001b[K     |██████████▌                     | 368 kB 5.0 MB/s eta 0:00:01\r\u001b[K     |██████████▉                     | 378 kB 5.0 MB/s eta 0:00:01\r\u001b[K     |███████████                     | 389 kB 5.0 MB/s eta 0:00:01\r\u001b[K     |███████████▍                    | 399 kB 5.0 MB/s eta 0:00:01\r\u001b[K     |███████████▊                    | 409 kB 5.0 MB/s eta 0:00:01\r\u001b[K     |████████████                    | 419 kB 5.0 MB/s eta 0:00:01\r\u001b[K     |████████████▎                   | 430 kB 5.0 MB/s eta 0:00:01\r\u001b[K     |████████████▌                   | 440 kB 5.0 MB/s eta 0:00:01\r\u001b[K     |████████████▉                   | 450 kB 5.0 MB/s eta 0:00:01\r\u001b[K     |█████████████▏                  | 460 kB 5.0 MB/s eta 0:00:01\r\u001b[K     |█████████████▍                  | 471 kB 5.0 MB/s eta 0:00:01\r\u001b[K     |█████████████▊                  | 481 kB 5.0 MB/s eta 0:00:01\r\u001b[K     |██████████████                  | 491 kB 5.0 MB/s eta 0:00:01\r\u001b[K     |██████████████▎                 | 501 kB 5.0 MB/s eta 0:00:01\r\u001b[K     |██████████████▋                 | 512 kB 5.0 MB/s eta 0:00:01\r\u001b[K     |██████████████▉                 | 522 kB 5.0 MB/s eta 0:00:01\r\u001b[K     |███████████████▏                | 532 kB 5.0 MB/s eta 0:00:01\r\u001b[K     |███████████████▌                | 542 kB 5.0 MB/s eta 0:00:01\r\u001b[K     |███████████████▊                | 552 kB 5.0 MB/s eta 0:00:01\r\u001b[K     |████████████████                | 563 kB 5.0 MB/s eta 0:00:01\r\u001b[K     |████████████████▍               | 573 kB 5.0 MB/s eta 0:00:01\r\u001b[K     |████████████████▋               | 583 kB 5.0 MB/s eta 0:00:01\r\u001b[K     |█████████████████               | 593 kB 5.0 MB/s eta 0:00:01\r\u001b[K     |█████████████████▏              | 604 kB 5.0 MB/s eta 0:00:01\r\u001b[K     |█████████████████▌              | 614 kB 5.0 MB/s eta 0:00:01\r\u001b[K     |█████████████████▉              | 624 kB 5.0 MB/s eta 0:00:01\r\u001b[K     |██████████████████              | 634 kB 5.0 MB/s eta 0:00:01\r\u001b[K     |██████████████████▍             | 645 kB 5.0 MB/s eta 0:00:01\r\u001b[K     |██████████████████▊             | 655 kB 5.0 MB/s eta 0:00:01\r\u001b[K     |███████████████████             | 665 kB 5.0 MB/s eta 0:00:01\r\u001b[K     |███████████████████▎            | 675 kB 5.0 MB/s eta 0:00:01\r\u001b[K     |███████████████████▌            | 686 kB 5.0 MB/s eta 0:00:01\r\u001b[K     |███████████████████▉            | 696 kB 5.0 MB/s eta 0:00:01\r\u001b[K     |████████████████████▏           | 706 kB 5.0 MB/s eta 0:00:01\r\u001b[K     |████████████████████▍           | 716 kB 5.0 MB/s eta 0:00:01\r\u001b[K     |████████████████████▊           | 727 kB 5.0 MB/s eta 0:00:01\r\u001b[K     |█████████████████████           | 737 kB 5.0 MB/s eta 0:00:01\r\u001b[K     |█████████████████████▎          | 747 kB 5.0 MB/s eta 0:00:01\r\u001b[K     |█████████████████████▋          | 757 kB 5.0 MB/s eta 0:00:01\r\u001b[K     |█████████████████████▉          | 768 kB 5.0 MB/s eta 0:00:01\r\u001b[K     |██████████████████████▏         | 778 kB 5.0 MB/s eta 0:00:01\r\u001b[K     |██████████████████████▌         | 788 kB 5.0 MB/s eta 0:00:01\r\u001b[K     |██████████████████████▊         | 798 kB 5.0 MB/s eta 0:00:01\r\u001b[K     |███████████████████████         | 808 kB 5.0 MB/s eta 0:00:01\r\u001b[K     |███████████████████████▍        | 819 kB 5.0 MB/s eta 0:00:01\r\u001b[K     |███████████████████████▋        | 829 kB 5.0 MB/s eta 0:00:01\r\u001b[K     |████████████████████████        | 839 kB 5.0 MB/s eta 0:00:01\r\u001b[K     |████████████████████████▏       | 849 kB 5.0 MB/s eta 0:00:01\r\u001b[K     |████████████████████████▌       | 860 kB 5.0 MB/s eta 0:00:01\r\u001b[K     |████████████████████████▉       | 870 kB 5.0 MB/s eta 0:00:01\r\u001b[K     |█████████████████████████       | 880 kB 5.0 MB/s eta 0:00:01\r\u001b[K     |█████████████████████████▍      | 890 kB 5.0 MB/s eta 0:00:01\r\u001b[K     |█████████████████████████▊      | 901 kB 5.0 MB/s eta 0:00:01\r\u001b[K     |██████████████████████████      | 911 kB 5.0 MB/s eta 0:00:01\r\u001b[K     |██████████████████████████▎     | 921 kB 5.0 MB/s eta 0:00:01\r\u001b[K     |██████████████████████████▌     | 931 kB 5.0 MB/s eta 0:00:01\r\u001b[K     |██████████████████████████▉     | 942 kB 5.0 MB/s eta 0:00:01\r\u001b[K     |███████████████████████████▏    | 952 kB 5.0 MB/s eta 0:00:01\r\u001b[K     |███████████████████████████▍    | 962 kB 5.0 MB/s eta 0:00:01\r\u001b[K     |███████████████████████████▊    | 972 kB 5.0 MB/s eta 0:00:01\r\u001b[K     |████████████████████████████    | 983 kB 5.0 MB/s eta 0:00:01\r\u001b[K     |████████████████████████████▎   | 993 kB 5.0 MB/s eta 0:00:01\r\u001b[K     |████████████████████████████▋   | 1.0 MB 5.0 MB/s eta 0:00:01\r\u001b[K     |████████████████████████████▉   | 1.0 MB 5.0 MB/s eta 0:00:01\r\u001b[K     |█████████████████████████████▏  | 1.0 MB 5.0 MB/s eta 0:00:01\r\u001b[K     |█████████████████████████████▌  | 1.0 MB 5.0 MB/s eta 0:00:01\r\u001b[K     |█████████████████████████████▊  | 1.0 MB 5.0 MB/s eta 0:00:01\r\u001b[K     |██████████████████████████████  | 1.1 MB 5.0 MB/s eta 0:00:01\r\u001b[K     |██████████████████████████████▍ | 1.1 MB 5.0 MB/s eta 0:00:01\r\u001b[K     |██████████████████████████████▋ | 1.1 MB 5.0 MB/s eta 0:00:01\r\u001b[K     |███████████████████████████████ | 1.1 MB 5.0 MB/s eta 0:00:01\r\u001b[K     |███████████████████████████████▏| 1.1 MB 5.0 MB/s eta 0:00:01\r\u001b[K     |███████████████████████████████▌| 1.1 MB 5.0 MB/s eta 0:00:01\r\u001b[K     |███████████████████████████████▉| 1.1 MB 5.0 MB/s eta 0:00:01\r\u001b[K     |████████████████████████████████| 1.1 MB 5.0 MB/s \n",
            "\u001b[?25hRequirement already satisfied: typeguard>=2.7 in /usr/local/lib/python3.7/dist-packages (from tensorflow-addons) (2.7.1)\n",
            "Installing collected packages: tensorflow-addons\n",
            "Successfully installed tensorflow-addons-0.16.1\n"
          ]
        }
      ],
      "source": [
        "!pip install tensorflow-addons"
      ]
    },
    {
      "cell_type": "code",
      "source": [
        "import tensorflow as tf\n",
        "import tensorflow_addons as tfa\n",
        "import numpy as np\n",
        "from tensorflow import keras\n",
        "from tensorflow.keras import layers"
      ],
      "metadata": {
        "id": "ktYpPzXb1DBm"
      },
      "execution_count": null,
      "outputs": []
    },
    {
      "cell_type": "code",
      "source": [
        "num_classes = 10\n",
        "input_shape = (32, 32, 3)\n",
        "\n",
        "# Load the train and test data splits\n",
        "(x_train, y_train), (x_test, y_test) = keras.datasets.cifar10.load_data()\n",
        "\n",
        "# Display shapes of train and test datasets\n",
        "print(f\"x_train shape: {x_train.shape} - y_train shape: {y_train.shape}\")\n",
        "print(f\"x_test shape: {x_test.shape} - y_test shape: {y_test.shape}\")"
      ],
      "metadata": {
        "colab": {
          "base_uri": "https://localhost:8080/"
        },
        "id": "RGoRCsoi1C-u",
        "outputId": "54d7ced5-ac91-4451-a9cb-7d9f392e07a1"
      },
      "execution_count": null,
      "outputs": [
        {
          "output_type": "stream",
          "name": "stdout",
          "text": [
            "Downloading data from https://www.cs.toronto.edu/~kriz/cifar-10-python.tar.gz\n",
            "170500096/170498071 [==============================] - 2s 0us/step\n",
            "170508288/170498071 [==============================] - 2s 0us/step\n",
            "x_train shape: (50000, 32, 32, 3) - y_train shape: (50000, 1)\n",
            "x_test shape: (10000, 32, 32, 3) - y_test shape: (10000, 1)\n"
          ]
        }
      ]
    },
    {
      "cell_type": "markdown",
      "source": [
        "-----------"
      ],
      "metadata": {
        "id": "nAJQeXF02Agy"
      }
    },
    {
      "cell_type": "markdown",
      "source": [
        "**Using image data augmentation**"
      ],
      "metadata": {
        "id": "csUtba0A11SW"
      }
    },
    {
      "cell_type": "code",
      "source": [
        "data_augmentation = keras.Sequential(\n",
        "    [\n",
        "        layers.Normalization(),\n",
        "        layers.RandomFlip(\"horizontal\"),\n",
        "        layers.RandomRotation(0.02),\n",
        "        layers.RandomWidth(0.2),\n",
        "        layers.RandomHeight(0.2),\n",
        "    ]\n",
        ")\n",
        "\n",
        "# Setting the state of the normalization layer.\n",
        "data_augmentation.layers[0].adapt(x_train)"
      ],
      "metadata": {
        "id": "AUCJt1YI1C7o"
      },
      "execution_count": null,
      "outputs": []
    },
    {
      "cell_type": "markdown",
      "source": [
        "**Build the encoder model**"
      ],
      "metadata": {
        "id": "ogeLvAtn18c9"
      }
    },
    {
      "cell_type": "markdown",
      "source": [
        "The encoder model takes the image as input and turns it into a 2048-dimensional feature vector."
      ],
      "metadata": {
        "id": "T2lCysXA2IFk"
      }
    },
    {
      "cell_type": "code",
      "source": [
        "def create_encoder():\n",
        "    resnet = keras.applications.ResNet50V2(\n",
        "        include_top=False, weights=None, input_shape=input_shape, pooling=\"avg\"\n",
        "    )\n",
        "\n",
        "    inputs = keras.Input(shape=input_shape)\n",
        "    augmented = data_augmentation(inputs)\n",
        "    outputs = resnet(augmented)\n",
        "    model = keras.Model(inputs=inputs, outputs=outputs, name=\"cifar10-encoder\")\n",
        "    return model\n",
        "\n",
        "\n",
        "encoder = create_encoder()\n",
        "encoder.summary()\n",
        "\n",
        "learning_rate = 0.001\n",
        "batch_size = 265\n",
        "hidden_units = 512\n",
        "projection_units = 128\n",
        "num_epochs = 50\n",
        "dropout_rate = 0.5\n",
        "temperature = 0.05"
      ],
      "metadata": {
        "colab": {
          "base_uri": "https://localhost:8080/"
        },
        "id": "5zELTSS21C48",
        "outputId": "ab447e90-7568-4b3e-9840-c00afd74f236"
      },
      "execution_count": null,
      "outputs": [
        {
          "output_type": "stream",
          "name": "stdout",
          "text": [
            "Model: \"cifar10-encoder\"\n",
            "_________________________________________________________________\n",
            " Layer (type)                Output Shape              Param #   \n",
            "=================================================================\n",
            " input_2 (InputLayer)        [(None, 32, 32, 3)]       0         \n",
            "                                                                 \n",
            " sequential (Sequential)     (None, 32, 32, 3)         7         \n",
            "                                                                 \n",
            " resnet50v2 (Functional)     (None, 2048)              23564800  \n",
            "                                                                 \n",
            "=================================================================\n",
            "Total params: 23,564,807\n",
            "Trainable params: 23,519,360\n",
            "Non-trainable params: 45,447\n",
            "_________________________________________________________________\n"
          ]
        }
      ]
    },
    {
      "cell_type": "code",
      "source": [
        ""
      ],
      "metadata": {
        "id": "tUQGxhZt1C13"
      },
      "execution_count": null,
      "outputs": []
    },
    {
      "cell_type": "markdown",
      "source": [
        "**Build the classification model**"
      ],
      "metadata": {
        "id": "3oFIbawa2R-V"
      }
    },
    {
      "cell_type": "code",
      "source": [
        "def create_classifier(encoder, trainable=True):\n",
        "\n",
        "    for layer in encoder.layers:\n",
        "        layer.trainable = trainable\n",
        "\n",
        "    inputs = keras.Input(shape=input_shape)\n",
        "    features = encoder(inputs)\n",
        "    features = layers.Dropout(dropout_rate)(features)\n",
        "    features = layers.Dense(hidden_units, activation=\"relu\")(features)\n",
        "    features = layers.Dropout(dropout_rate)(features)\n",
        "    # a softmax layer with the target classes.\n",
        "    outputs = layers.Dense(num_classes, activation=\"softmax\")(features)\n",
        "\n",
        "    model = keras.Model(inputs=inputs, outputs=outputs, name=\"cifar10-classifier\")\n",
        "    model.compile(\n",
        "        optimizer=keras.optimizers.Adam(learning_rate),\n",
        "        loss=keras.losses.SparseCategoricalCrossentropy(),\n",
        "        metrics=[keras.metrics.SparseCategoricalAccuracy()],\n",
        "    )\n",
        "    return model"
      ],
      "metadata": {
        "id": "UDbKs3w81CzH"
      },
      "execution_count": null,
      "outputs": []
    },
    {
      "cell_type": "code",
      "source": [
        "# without using supervised contrastive learning\n",
        "encoder = create_encoder()\n",
        "classifier = create_classifier(encoder)\n",
        "classifier.summary()"
      ],
      "metadata": {
        "colab": {
          "base_uri": "https://localhost:8080/"
        },
        "id": "q-HQ0GIB1CwF",
        "outputId": "2f42d219-5a1d-40c1-8d8f-2a2973b19922"
      },
      "execution_count": null,
      "outputs": [
        {
          "output_type": "stream",
          "name": "stdout",
          "text": [
            "Model: \"cifar10-classifier\"\n",
            "_________________________________________________________________\n",
            " Layer (type)                Output Shape              Param #   \n",
            "=================================================================\n",
            " input_8 (InputLayer)        [(None, 32, 32, 3)]       0         \n",
            "                                                                 \n",
            " cifar10-encoder (Functional  (None, 2048)             23564807  \n",
            " )                                                               \n",
            "                                                                 \n",
            " dropout_2 (Dropout)         (None, 2048)              0         \n",
            "                                                                 \n",
            " dense_2 (Dense)             (None, 512)               1049088   \n",
            "                                                                 \n",
            " dropout_3 (Dropout)         (None, 512)               0         \n",
            "                                                                 \n",
            " dense_3 (Dense)             (None, 10)                5130      \n",
            "                                                                 \n",
            "=================================================================\n",
            "Total params: 24,619,025\n",
            "Trainable params: 24,573,578\n",
            "Non-trainable params: 45,447\n",
            "_________________________________________________________________\n"
          ]
        }
      ]
    },
    {
      "cell_type": "code",
      "source": [
        "history = classifier.fit(x=x_train, y=y_train, batch_size=batch_size, epochs=num_epochs)\n",
        "\n",
        "accuracy = classifier.evaluate(x_test, y_test)[1]\n",
        "print(f\"Test accuracy: {round(accuracy * 100, 2)}%\")"
      ],
      "metadata": {
        "colab": {
          "base_uri": "https://localhost:8080/"
        },
        "id": "_Y6wRyMn5Jvt",
        "outputId": "0f0d9188-8dfc-4b59-964c-74e8243f99a9"
      },
      "execution_count": null,
      "outputs": [
        {
          "output_type": "stream",
          "name": "stdout",
          "text": [
            "Epoch 1/50\n",
            "189/189 [==============================] - 52s 218ms/step - loss: 1.9592 - sparse_categorical_accuracy: 0.2818\n",
            "Epoch 2/50\n",
            "189/189 [==============================] - 27s 141ms/step - loss: 1.5338 - sparse_categorical_accuracy: 0.4460\n",
            "Epoch 3/50\n",
            "189/189 [==============================] - 23s 124ms/step - loss: 1.3586 - sparse_categorical_accuracy: 0.5169\n",
            "Epoch 4/50\n",
            "189/189 [==============================] - 27s 143ms/step - loss: 1.2356 - sparse_categorical_accuracy: 0.5664\n",
            "Epoch 5/50\n",
            "189/189 [==============================] - 27s 142ms/step - loss: 1.1615 - sparse_categorical_accuracy: 0.5926\n",
            "Epoch 6/50\n",
            "189/189 [==============================] - 23s 123ms/step - loss: 1.0530 - sparse_categorical_accuracy: 0.6366\n",
            "Epoch 7/50\n",
            "189/189 [==============================] - 23s 122ms/step - loss: 0.9887 - sparse_categorical_accuracy: 0.6578\n",
            "Epoch 8/50\n",
            "189/189 [==============================] - 23s 123ms/step - loss: 0.9434 - sparse_categorical_accuracy: 0.6743\n",
            "Epoch 9/50\n",
            "189/189 [==============================] - 23s 123ms/step - loss: 0.8811 - sparse_categorical_accuracy: 0.6987\n",
            "Epoch 10/50\n",
            "189/189 [==============================] - 23s 124ms/step - loss: 0.8299 - sparse_categorical_accuracy: 0.7143\n",
            "Epoch 11/50\n",
            "189/189 [==============================] - 23s 122ms/step - loss: 0.8610 - sparse_categorical_accuracy: 0.7079\n",
            "Epoch 12/50\n",
            "189/189 [==============================] - 23s 123ms/step - loss: 0.8413 - sparse_categorical_accuracy: 0.7139\n",
            "Epoch 13/50\n",
            "189/189 [==============================] - 24s 125ms/step - loss: 0.7720 - sparse_categorical_accuracy: 0.7375\n",
            "Epoch 14/50\n",
            "189/189 [==============================] - 23s 124ms/step - loss: 0.7120 - sparse_categorical_accuracy: 0.7578\n",
            "Epoch 15/50\n",
            "189/189 [==============================] - 23s 121ms/step - loss: 0.6759 - sparse_categorical_accuracy: 0.7692\n",
            "Epoch 16/50\n",
            "189/189 [==============================] - 23s 121ms/step - loss: 0.6560 - sparse_categorical_accuracy: 0.7749\n",
            "Epoch 17/50\n",
            "189/189 [==============================] - 23s 122ms/step - loss: 0.8109 - sparse_categorical_accuracy: 0.7292\n",
            "Epoch 18/50\n",
            "189/189 [==============================] - 24s 125ms/step - loss: 0.6987 - sparse_categorical_accuracy: 0.7653\n",
            "Epoch 19/50\n",
            "189/189 [==============================] - 23s 120ms/step - loss: 0.6242 - sparse_categorical_accuracy: 0.7886\n",
            "Epoch 20/50\n",
            "189/189 [==============================] - 23s 123ms/step - loss: 0.5896 - sparse_categorical_accuracy: 0.7991\n",
            "Epoch 21/50\n",
            "189/189 [==============================] - 23s 121ms/step - loss: 0.5651 - sparse_categorical_accuracy: 0.8067\n",
            "Epoch 22/50\n",
            "189/189 [==============================] - 23s 123ms/step - loss: 0.5513 - sparse_categorical_accuracy: 0.8106\n",
            "Epoch 23/50\n",
            "189/189 [==============================] - 24s 126ms/step - loss: 0.5923 - sparse_categorical_accuracy: 0.7997\n",
            "Epoch 24/50\n",
            "189/189 [==============================] - 23s 121ms/step - loss: 0.5320 - sparse_categorical_accuracy: 0.8200\n",
            "Epoch 25/50\n",
            "189/189 [==============================] - 23s 124ms/step - loss: 0.5603 - sparse_categorical_accuracy: 0.8098\n",
            "Epoch 26/50\n",
            "189/189 [==============================] - 23s 122ms/step - loss: 0.5018 - sparse_categorical_accuracy: 0.8294\n",
            "Epoch 27/50\n",
            "189/189 [==============================] - 23s 123ms/step - loss: 0.4809 - sparse_categorical_accuracy: 0.8363\n",
            "Epoch 28/50\n",
            "189/189 [==============================] - 23s 123ms/step - loss: 0.4735 - sparse_categorical_accuracy: 0.8377\n",
            "Epoch 29/50\n",
            "189/189 [==============================] - 23s 120ms/step - loss: 0.4639 - sparse_categorical_accuracy: 0.8429\n",
            "Epoch 30/50\n",
            "189/189 [==============================] - 23s 123ms/step - loss: 0.4419 - sparse_categorical_accuracy: 0.8481\n",
            "Epoch 31/50\n",
            "189/189 [==============================] - 23s 122ms/step - loss: 0.4362 - sparse_categorical_accuracy: 0.8518\n",
            "Epoch 32/50\n",
            "189/189 [==============================] - 23s 121ms/step - loss: 0.4210 - sparse_categorical_accuracy: 0.8563\n",
            "Epoch 33/50\n",
            "189/189 [==============================] - 23s 122ms/step - loss: 0.4135 - sparse_categorical_accuracy: 0.8581\n",
            "Epoch 34/50\n",
            "189/189 [==============================] - 23s 124ms/step - loss: 0.3956 - sparse_categorical_accuracy: 0.8658\n",
            "Epoch 35/50\n",
            "189/189 [==============================] - 23s 121ms/step - loss: 0.3895 - sparse_categorical_accuracy: 0.8678\n",
            "Epoch 36/50\n",
            "189/189 [==============================] - 23s 121ms/step - loss: 0.3802 - sparse_categorical_accuracy: 0.8706\n",
            "Epoch 37/50\n",
            "189/189 [==============================] - 23s 122ms/step - loss: 0.3730 - sparse_categorical_accuracy: 0.8737\n",
            "Epoch 38/50\n",
            "189/189 [==============================] - 23s 122ms/step - loss: 0.3664 - sparse_categorical_accuracy: 0.8749\n",
            "Epoch 39/50\n",
            "189/189 [==============================] - 23s 121ms/step - loss: 0.7379 - sparse_categorical_accuracy: 0.7583\n",
            "Epoch 40/50\n",
            "189/189 [==============================] - 23s 124ms/step - loss: 0.4867 - sparse_categorical_accuracy: 0.8335\n",
            "Epoch 41/50\n",
            "189/189 [==============================] - 23s 123ms/step - loss: 0.3981 - sparse_categorical_accuracy: 0.8638\n",
            "Epoch 42/50\n",
            "189/189 [==============================] - 23s 121ms/step - loss: 0.3758 - sparse_categorical_accuracy: 0.8722\n",
            "Epoch 43/50\n",
            "189/189 [==============================] - 23s 122ms/step - loss: 0.3460 - sparse_categorical_accuracy: 0.8809\n",
            "Epoch 44/50\n",
            "189/189 [==============================] - 23s 121ms/step - loss: 0.3362 - sparse_categorical_accuracy: 0.8860\n",
            "Epoch 45/50\n",
            "189/189 [==============================] - 23s 123ms/step - loss: 0.3221 - sparse_categorical_accuracy: 0.8890\n",
            "Epoch 46/50\n",
            "189/189 [==============================] - 23s 121ms/step - loss: 0.3089 - sparse_categorical_accuracy: 0.8939\n",
            "Epoch 47/50\n",
            "189/189 [==============================] - 23s 121ms/step - loss: 0.3544 - sparse_categorical_accuracy: 0.8800\n",
            "Epoch 48/50\n",
            "189/189 [==============================] - 23s 121ms/step - loss: 0.5282 - sparse_categorical_accuracy: 0.8232\n",
            "Epoch 49/50\n",
            "189/189 [==============================] - 23s 123ms/step - loss: 0.3401 - sparse_categorical_accuracy: 0.8834\n",
            "Epoch 50/50\n",
            "189/189 [==============================] - 24s 126ms/step - loss: 0.5157 - sparse_categorical_accuracy: 0.8299\n",
            "313/313 [==============================] - 6s 14ms/step - loss: 0.9075 - sparse_categorical_accuracy: 0.7763\n",
            "Test accuracy: 77.63%\n"
          ]
        }
      ]
    },
    {
      "cell_type": "markdown",
      "source": [
        "--------"
      ],
      "metadata": {
        "id": "HaAyf_Sf3L7n"
      }
    },
    {
      "cell_type": "markdown",
      "source": [
        "**Use supervised contrastive learning**"
      ],
      "metadata": {
        "id": "8ZzmcWvh3N1l"
      }
    },
    {
      "cell_type": "code",
      "source": [
        "class SupervisedContrastiveLoss(keras.losses.Loss):\n",
        "    def __init__(self, temperature=1, name=None):\n",
        "        super(SupervisedContrastiveLoss, self).__init__(name=name)\n",
        "        self.temperature = temperature\n",
        "\n",
        "    def __call__(self, labels, feature_vectors, sample_weight=None):\n",
        "        # Normalize feature vectors\n",
        "        feature_vectors_normalized = tf.math.l2_normalize(feature_vectors, axis=1)\n",
        "        # Compute logits\n",
        "        logits = tf.divide(\n",
        "            tf.matmul(\n",
        "                feature_vectors_normalized, tf.transpose(feature_vectors_normalized)\n",
        "            ),\n",
        "            self.temperature,\n",
        "        )\n",
        "        return tfa.losses.npairs_loss(tf.squeeze(labels), logits)\n",
        "\n",
        "\n",
        "def add_projection_head(encoder):\n",
        "    inputs = keras.Input(shape=input_shape)\n",
        "    features = encoder(inputs)\n",
        "    outputs = layers.Dense(projection_units, activation=\"relu\")(features)\n",
        "    model = keras.Model(\n",
        "        inputs=inputs, outputs=outputs, name=\"cifar-encoder_with_projection-head\"\n",
        "    )\n",
        "    return model"
      ],
      "metadata": {
        "id": "a9modqUX1Cti"
      },
      "execution_count": null,
      "outputs": []
    },
    {
      "cell_type": "code",
      "source": [
        "encoder = create_encoder()\n",
        "\n",
        "encoder_with_projection_head = add_projection_head(encoder)\n",
        "encoder_with_projection_head.compile(\n",
        "    optimizer=keras.optimizers.Adam(learning_rate),\n",
        "    loss=SupervisedContrastiveLoss(temperature),\n",
        ")\n",
        "\n",
        "encoder_with_projection_head.summary()\n",
        "\n",
        "history = encoder_with_projection_head.fit(\n",
        "    x=x_train, y=y_train, batch_size=batch_size, epochs=num_epochs\n",
        ")"
      ],
      "metadata": {
        "colab": {
          "base_uri": "https://localhost:8080/"
        },
        "id": "aK8pLT7z1Cqc",
        "outputId": "e55a9020-7093-4ab9-b9c0-96f4d69c1a46"
      },
      "execution_count": null,
      "outputs": [
        {
          "output_type": "stream",
          "name": "stdout",
          "text": [
            "Model: \"cifar-encoder_with_projection-head\"\n",
            "_________________________________________________________________\n",
            " Layer (type)                Output Shape              Param #   \n",
            "=================================================================\n",
            " input_11 (InputLayer)       [(None, 32, 32, 3)]       0         \n",
            "                                                                 \n",
            " cifar10-encoder (Functional  (None, 2048)             23564807  \n",
            " )                                                               \n",
            "                                                                 \n",
            " dense_4 (Dense)             (None, 128)               262272    \n",
            "                                                                 \n",
            "=================================================================\n",
            "Total params: 23,827,079\n",
            "Trainable params: 23,781,632\n",
            "Non-trainable params: 45,447\n",
            "_________________________________________________________________\n",
            "Epoch 1/50\n",
            "189/189 [==============================] - 27s 114ms/step - loss: 5.3509\n",
            "Epoch 2/50\n",
            "189/189 [==============================] - 22s 115ms/step - loss: 5.1290\n",
            "Epoch 3/50\n",
            "189/189 [==============================] - 23s 119ms/step - loss: 5.0041\n",
            "Epoch 4/50\n",
            "189/189 [==============================] - 22s 117ms/step - loss: 4.9108\n",
            "Epoch 5/50\n",
            "189/189 [==============================] - 23s 119ms/step - loss: 4.8018\n",
            "Epoch 6/50\n",
            "189/189 [==============================] - 23s 122ms/step - loss: 4.7307\n",
            "Epoch 7/50\n",
            "189/189 [==============================] - 23s 121ms/step - loss: 4.6528\n",
            "Epoch 8/50\n",
            "189/189 [==============================] - 23s 120ms/step - loss: 4.5940\n",
            "Epoch 9/50\n",
            "189/189 [==============================] - 23s 120ms/step - loss: 4.5410\n",
            "Epoch 10/50\n",
            "189/189 [==============================] - 23s 122ms/step - loss: 4.4865\n",
            "Epoch 11/50\n",
            "189/189 [==============================] - 23s 124ms/step - loss: 4.4486\n",
            "Epoch 12/50\n",
            "189/189 [==============================] - 23s 121ms/step - loss: 4.4152\n",
            "Epoch 13/50\n",
            "189/189 [==============================] - 23s 122ms/step - loss: 4.3656\n",
            "Epoch 14/50\n",
            "189/189 [==============================] - 23s 122ms/step - loss: 4.3360\n",
            "Epoch 15/50\n",
            "189/189 [==============================] - 23s 122ms/step - loss: 4.3019\n",
            "Epoch 16/50\n",
            "189/189 [==============================] - 23s 120ms/step - loss: 4.2725\n",
            "Epoch 17/50\n",
            "189/189 [==============================] - 23s 124ms/step - loss: 4.2448\n",
            "Epoch 18/50\n",
            "189/189 [==============================] - 23s 120ms/step - loss: 4.2199\n",
            "Epoch 19/50\n",
            "189/189 [==============================] - 23s 124ms/step - loss: 4.1950\n",
            "Epoch 20/50\n",
            "189/189 [==============================] - 23s 121ms/step - loss: 4.1819\n",
            "Epoch 21/50\n",
            "189/189 [==============================] - 23s 121ms/step - loss: 4.1480\n",
            "Epoch 22/50\n",
            "189/189 [==============================] - 23s 123ms/step - loss: 4.1238\n",
            "Epoch 23/50\n",
            "189/189 [==============================] - 23s 124ms/step - loss: 4.1099\n",
            "Epoch 24/50\n",
            "189/189 [==============================] - 23s 122ms/step - loss: 4.0881\n",
            "Epoch 25/50\n",
            "189/189 [==============================] - 23s 124ms/step - loss: 4.0581\n",
            "Epoch 26/50\n",
            "189/189 [==============================] - 23s 123ms/step - loss: 4.0575\n",
            "Epoch 27/50\n",
            "189/189 [==============================] - 23s 122ms/step - loss: 4.0319\n",
            "Epoch 28/50\n",
            "189/189 [==============================] - 23s 124ms/step - loss: 4.0146\n",
            "Epoch 29/50\n",
            "189/189 [==============================] - 23s 122ms/step - loss: 4.0010\n",
            "Epoch 30/50\n",
            "189/189 [==============================] - 23s 124ms/step - loss: 3.9904\n",
            "Epoch 31/50\n",
            "189/189 [==============================] - 23s 124ms/step - loss: 3.9839\n",
            "Epoch 32/50\n",
            "189/189 [==============================] - 23s 122ms/step - loss: 3.9580\n",
            "Epoch 33/50\n",
            "189/189 [==============================] - 23s 121ms/step - loss: 3.9514\n",
            "Epoch 34/50\n",
            "189/189 [==============================] - 23s 120ms/step - loss: 3.9289\n",
            "Epoch 35/50\n",
            "189/189 [==============================] - 23s 123ms/step - loss: 3.9096\n",
            "Epoch 36/50\n",
            "189/189 [==============================] - 23s 121ms/step - loss: 3.9000\n",
            "Epoch 37/50\n",
            "189/189 [==============================] - 23s 123ms/step - loss: 3.8882\n",
            "Epoch 38/50\n",
            "189/189 [==============================] - 23s 124ms/step - loss: 3.8767\n",
            "Epoch 39/50\n",
            "189/189 [==============================] - 23s 120ms/step - loss: 3.8642\n",
            "Epoch 40/50\n",
            "189/189 [==============================] - 23s 121ms/step - loss: 3.8541\n",
            "Epoch 41/50\n",
            "189/189 [==============================] - 23s 123ms/step - loss: 3.8455\n",
            "Epoch 42/50\n",
            "189/189 [==============================] - 23s 123ms/step - loss: 3.8237\n",
            "Epoch 43/50\n",
            "189/189 [==============================] - 24s 126ms/step - loss: 3.8223\n",
            "Epoch 44/50\n",
            "189/189 [==============================] - 23s 123ms/step - loss: 3.8083\n",
            "Epoch 45/50\n",
            "189/189 [==============================] - 23s 120ms/step - loss: 3.8042\n",
            "Epoch 46/50\n",
            "189/189 [==============================] - 23s 123ms/step - loss: 3.7834\n",
            "Epoch 47/50\n",
            "189/189 [==============================] - 23s 120ms/step - loss: 3.7871\n",
            "Epoch 48/50\n",
            "189/189 [==============================] - 23s 121ms/step - loss: 3.7745\n",
            "Epoch 49/50\n",
            "189/189 [==============================] - 23s 120ms/step - loss: 3.7588\n",
            "Epoch 50/50\n",
            "189/189 [==============================] - 23s 121ms/step - loss: 3.7470\n"
          ]
        }
      ]
    },
    {
      "cell_type": "code",
      "source": [
        "#Train the classifier with the frozen encoder\n",
        "classifier = create_classifier(encoder, trainable=False)\n",
        "\n",
        "history = classifier.fit(x=x_train, y=y_train, batch_size=batch_size, epochs=num_epochs)\n",
        "\n",
        "accuracy = classifier.evaluate(x_test, y_test)[1]\n",
        "print(f\"Test accuracy: {round(accuracy * 100, 2)}%\")"
      ],
      "metadata": {
        "colab": {
          "base_uri": "https://localhost:8080/"
        },
        "id": "ebgJsmbG1Cnx",
        "outputId": "42e51b79-5600-4a7a-8af1-33da1b43648c"
      },
      "execution_count": null,
      "outputs": [
        {
          "output_type": "stream",
          "name": "stdout",
          "text": [
            "Epoch 1/50\n",
            "189/189 [==============================] - 10s 34ms/step - loss: 0.3658 - sparse_categorical_accuracy: 0.9004\n",
            "Epoch 2/50\n",
            "189/189 [==============================] - 6s 34ms/step - loss: 0.2879 - sparse_categorical_accuracy: 0.9150\n",
            "Epoch 3/50\n",
            "189/189 [==============================] - 7s 35ms/step - loss: 0.2854 - sparse_categorical_accuracy: 0.9149\n",
            "Epoch 4/50\n",
            "189/189 [==============================] - 6s 34ms/step - loss: 0.2805 - sparse_categorical_accuracy: 0.9137\n",
            "Epoch 5/50\n",
            "189/189 [==============================] - 6s 34ms/step - loss: 0.2774 - sparse_categorical_accuracy: 0.9150\n",
            "Epoch 6/50\n",
            "189/189 [==============================] - 6s 34ms/step - loss: 0.2805 - sparse_categorical_accuracy: 0.9141\n",
            "Epoch 7/50\n",
            "189/189 [==============================] - 6s 34ms/step - loss: 0.2736 - sparse_categorical_accuracy: 0.9151\n",
            "Epoch 8/50\n",
            "189/189 [==============================] - 6s 34ms/step - loss: 0.2776 - sparse_categorical_accuracy: 0.9160\n",
            "Epoch 9/50\n",
            "189/189 [==============================] - 7s 35ms/step - loss: 0.2684 - sparse_categorical_accuracy: 0.9160\n",
            "Epoch 10/50\n",
            "189/189 [==============================] - 6s 34ms/step - loss: 0.2810 - sparse_categorical_accuracy: 0.9123\n",
            "Epoch 11/50\n",
            "189/189 [==============================] - 7s 35ms/step - loss: 0.2710 - sparse_categorical_accuracy: 0.9157\n",
            "Epoch 12/50\n",
            "189/189 [==============================] - 6s 34ms/step - loss: 0.2756 - sparse_categorical_accuracy: 0.9138\n",
            "Epoch 13/50\n",
            "189/189 [==============================] - 6s 34ms/step - loss: 0.2752 - sparse_categorical_accuracy: 0.9150\n",
            "Epoch 14/50\n",
            "189/189 [==============================] - 6s 34ms/step - loss: 0.2718 - sparse_categorical_accuracy: 0.9155\n",
            "Epoch 15/50\n",
            "189/189 [==============================] - 7s 35ms/step - loss: 0.2705 - sparse_categorical_accuracy: 0.9166\n",
            "Epoch 16/50\n",
            "189/189 [==============================] - 7s 35ms/step - loss: 0.2756 - sparse_categorical_accuracy: 0.9138\n",
            "Epoch 17/50\n",
            "189/189 [==============================] - 7s 35ms/step - loss: 0.2758 - sparse_categorical_accuracy: 0.9144\n",
            "Epoch 18/50\n",
            "189/189 [==============================] - 7s 35ms/step - loss: 0.2829 - sparse_categorical_accuracy: 0.9124\n",
            "Epoch 19/50\n",
            "189/189 [==============================] - 7s 35ms/step - loss: 0.2700 - sparse_categorical_accuracy: 0.9160\n",
            "Epoch 20/50\n",
            "189/189 [==============================] - 7s 35ms/step - loss: 0.2796 - sparse_categorical_accuracy: 0.9133\n",
            "Epoch 21/50\n",
            "189/189 [==============================] - 7s 36ms/step - loss: 0.2660 - sparse_categorical_accuracy: 0.9175\n",
            "Epoch 22/50\n",
            "189/189 [==============================] - 7s 36ms/step - loss: 0.2736 - sparse_categorical_accuracy: 0.9131\n",
            "Epoch 23/50\n",
            "189/189 [==============================] - 7s 35ms/step - loss: 0.2712 - sparse_categorical_accuracy: 0.9151\n",
            "Epoch 24/50\n",
            "189/189 [==============================] - 7s 35ms/step - loss: 0.2752 - sparse_categorical_accuracy: 0.9127\n",
            "Epoch 25/50\n",
            "189/189 [==============================] - 7s 35ms/step - loss: 0.2728 - sparse_categorical_accuracy: 0.9155\n",
            "Epoch 26/50\n",
            "189/189 [==============================] - 7s 35ms/step - loss: 0.2700 - sparse_categorical_accuracy: 0.9168\n",
            "Epoch 27/50\n",
            "189/189 [==============================] - 7s 36ms/step - loss: 0.2700 - sparse_categorical_accuracy: 0.9154\n",
            "Epoch 28/50\n",
            "189/189 [==============================] - 7s 36ms/step - loss: 0.2625 - sparse_categorical_accuracy: 0.9180\n",
            "Epoch 29/50\n",
            "189/189 [==============================] - 7s 36ms/step - loss: 0.2728 - sparse_categorical_accuracy: 0.9153\n",
            "Epoch 30/50\n",
            "189/189 [==============================] - 7s 35ms/step - loss: 0.2657 - sparse_categorical_accuracy: 0.9171\n",
            "Epoch 31/50\n",
            "189/189 [==============================] - 7s 36ms/step - loss: 0.2666 - sparse_categorical_accuracy: 0.9177\n",
            "Epoch 32/50\n",
            "189/189 [==============================] - 7s 35ms/step - loss: 0.2701 - sparse_categorical_accuracy: 0.9158\n",
            "Epoch 33/50\n",
            "189/189 [==============================] - 7s 36ms/step - loss: 0.2664 - sparse_categorical_accuracy: 0.9168\n",
            "Epoch 34/50\n",
            "189/189 [==============================] - 7s 36ms/step - loss: 0.2703 - sparse_categorical_accuracy: 0.9155\n",
            "Epoch 35/50\n",
            "189/189 [==============================] - 7s 35ms/step - loss: 0.2675 - sparse_categorical_accuracy: 0.9152\n",
            "Epoch 36/50\n",
            "189/189 [==============================] - 7s 36ms/step - loss: 0.2674 - sparse_categorical_accuracy: 0.9142\n",
            "Epoch 37/50\n",
            "189/189 [==============================] - 7s 35ms/step - loss: 0.2632 - sparse_categorical_accuracy: 0.9177\n",
            "Epoch 38/50\n",
            "189/189 [==============================] - 7s 36ms/step - loss: 0.2605 - sparse_categorical_accuracy: 0.9187\n",
            "Epoch 39/50\n",
            "189/189 [==============================] - 7s 35ms/step - loss: 0.2654 - sparse_categorical_accuracy: 0.9172\n",
            "Epoch 40/50\n",
            "189/189 [==============================] - 7s 36ms/step - loss: 0.2600 - sparse_categorical_accuracy: 0.9181\n",
            "Epoch 41/50\n",
            "189/189 [==============================] - 7s 36ms/step - loss: 0.2698 - sparse_categorical_accuracy: 0.9157\n",
            "Epoch 42/50\n",
            "189/189 [==============================] - 7s 35ms/step - loss: 0.2663 - sparse_categorical_accuracy: 0.9168\n",
            "Epoch 43/50\n",
            "189/189 [==============================] - 7s 36ms/step - loss: 0.2719 - sparse_categorical_accuracy: 0.9153\n",
            "Epoch 44/50\n",
            "189/189 [==============================] - 7s 35ms/step - loss: 0.2747 - sparse_categorical_accuracy: 0.9137\n",
            "Epoch 45/50\n",
            "189/189 [==============================] - 7s 36ms/step - loss: 0.2748 - sparse_categorical_accuracy: 0.9148\n",
            "Epoch 46/50\n",
            "189/189 [==============================] - 7s 36ms/step - loss: 0.2677 - sparse_categorical_accuracy: 0.9159\n",
            "Epoch 47/50\n",
            "189/189 [==============================] - 7s 36ms/step - loss: 0.2709 - sparse_categorical_accuracy: 0.9144\n",
            "Epoch 48/50\n",
            "189/189 [==============================] - 7s 36ms/step - loss: 0.2736 - sparse_categorical_accuracy: 0.9141\n",
            "Epoch 49/50\n",
            "189/189 [==============================] - 7s 36ms/step - loss: 0.2629 - sparse_categorical_accuracy: 0.9167\n",
            "Epoch 50/50\n",
            "189/189 [==============================] - 7s 35ms/step - loss: 0.2645 - sparse_categorical_accuracy: 0.9169\n",
            "313/313 [==============================] - 5s 13ms/step - loss: 0.7495 - sparse_categorical_accuracy: 0.8106\n",
            "Test accuracy: 81.06%\n"
          ]
        }
      ]
    },
    {
      "cell_type": "code",
      "source": [
        ""
      ],
      "metadata": {
        "id": "ffOEYeo61ClH"
      },
      "execution_count": null,
      "outputs": []
    },
    {
      "cell_type": "code",
      "source": [
        ""
      ],
      "metadata": {
        "id": "xWI6857W1CiD"
      },
      "execution_count": null,
      "outputs": []
    },
    {
      "cell_type": "code",
      "source": [
        ""
      ],
      "metadata": {
        "id": "bzX518Yf1CfU"
      },
      "execution_count": null,
      "outputs": []
    },
    {
      "cell_type": "code",
      "source": [
        ""
      ],
      "metadata": {
        "id": "rj2hplfL1CcO"
      },
      "execution_count": null,
      "outputs": []
    },
    {
      "cell_type": "code",
      "source": [
        ""
      ],
      "metadata": {
        "id": "6YZvK8Na1CZb"
      },
      "execution_count": null,
      "outputs": []
    },
    {
      "cell_type": "code",
      "source": [
        ""
      ],
      "metadata": {
        "id": "ruftRN-o1CWx"
      },
      "execution_count": null,
      "outputs": []
    },
    {
      "cell_type": "code",
      "source": [
        ""
      ],
      "metadata": {
        "id": "W33x_JaP1CTy"
      },
      "execution_count": null,
      "outputs": []
    },
    {
      "cell_type": "code",
      "source": [
        ""
      ],
      "metadata": {
        "id": "BFhCcO-W1CRA"
      },
      "execution_count": null,
      "outputs": []
    },
    {
      "cell_type": "code",
      "source": [
        ""
      ],
      "metadata": {
        "id": "zJmV6Xdz1COA"
      },
      "execution_count": null,
      "outputs": []
    },
    {
      "cell_type": "code",
      "source": [
        ""
      ],
      "metadata": {
        "id": "WbEe32a61CK_"
      },
      "execution_count": null,
      "outputs": []
    },
    {
      "cell_type": "code",
      "source": [
        ""
      ],
      "metadata": {
        "id": "CujjDEku1CIT"
      },
      "execution_count": null,
      "outputs": []
    },
    {
      "cell_type": "code",
      "source": [
        ""
      ],
      "metadata": {
        "id": "swDJje571CFm"
      },
      "execution_count": null,
      "outputs": []
    },
    {
      "cell_type": "code",
      "source": [
        ""
      ],
      "metadata": {
        "id": "s1RIeyQB1CCt"
      },
      "execution_count": null,
      "outputs": []
    },
    {
      "cell_type": "code",
      "source": [
        ""
      ],
      "metadata": {
        "id": "LW17R-zG1B_9"
      },
      "execution_count": null,
      "outputs": []
    },
    {
      "cell_type": "code",
      "source": [
        ""
      ],
      "metadata": {
        "id": "ZIM_JW291B9R"
      },
      "execution_count": null,
      "outputs": []
    },
    {
      "cell_type": "code",
      "source": [
        ""
      ],
      "metadata": {
        "id": "rklQofPX1B4H"
      },
      "execution_count": null,
      "outputs": []
    }
  ]
}